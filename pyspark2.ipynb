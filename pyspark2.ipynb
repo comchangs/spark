{
 "cells": [
  {
   "cell_type": "code",
   "execution_count": 42,
   "metadata": {
    "collapsed": false
   },
   "outputs": [],
   "source": [
    "devDF = spark.read. \\\n",
    "json(\"/loudacre/devices.json\")\n",
    "makeModelDF = devDF.select(\"make\",\"model\")\n"
   ]
  },
  {
   "cell_type": "code",
   "execution_count": 6,
   "metadata": {
    "collapsed": false
   },
   "outputs": [],
   "source": [
    "accountsDF = spark.read.table(\"accounts\")"
   ]
  },
  {
   "cell_type": "code",
   "execution_count": 9,
   "metadata": {
    "collapsed": false
   },
   "outputs": [
    {
     "name": "stdout",
     "output_type": "stream",
     "text": [
      "+----------+\n",
      "|first_name|\n",
      "+----------+\n",
      "|    Donald|\n",
      "|     Donna|\n",
      "|    Dorthy|\n",
      "|     Leila|\n",
      "|     Anita|\n",
      "|    Stevie|\n",
      "|     David|\n",
      "|   Dorothy|\n",
      "|      Kara|\n",
      "|     Diane|\n",
      "|    Robert|\n",
      "|    Marcia|\n",
      "|    Andres|\n",
      "|       Ann|\n",
      "|    Joseph|\n",
      "|     Sarah|\n",
      "|      Lucy|\n",
      "|    Roland|\n",
      "|     Leona|\n",
      "|   Forrest|\n",
      "+----------+\n",
      "only showing top 20 rows\n",
      "\n"
     ]
    }
   ],
   "source": [
    "accountsDF.select(accountsDF[\"first_name\"]).show()"
   ]
  },
  {
   "cell_type": "code",
   "execution_count": 10,
   "metadata": {
    "collapsed": true
   },
   "outputs": [],
   "source": [
    "fnCol=accountsDF.first_name"
   ]
  },
  {
   "cell_type": "code",
   "execution_count": 12,
   "metadata": {
    "collapsed": false
   },
   "outputs": [],
   "source": [
    "lucyCol = (fnCol == \"Lucy\")"
   ]
  },
  {
   "cell_type": "code",
   "execution_count": 13,
   "metadata": {
    "collapsed": false
   },
   "outputs": [
    {
     "name": "stdout",
     "output_type": "stream",
     "text": [
      "+----------+---------+-------------------+\n",
      "|first_name|last_name|(first_name = Lucy)|\n",
      "+----------+---------+-------------------+\n",
      "|    Donald|   Becton|              false|\n",
      "|     Donna|    Jones|              false|\n",
      "|    Dorthy| Chalmers|              false|\n",
      "|     Leila|  Spencer|              false|\n",
      "|     Anita| Laughlin|              false|\n",
      "|    Stevie|   Bridge|              false|\n",
      "|     David|   Eggers|              false|\n",
      "|   Dorothy|  Koopman|              false|\n",
      "|      Kara|     Kohl|              false|\n",
      "|     Diane|   Nelson|              false|\n",
      "|    Robert|   Fisher|              false|\n",
      "|    Marcia|  Roberts|              false|\n",
      "|    Andres|    Cruse|              false|\n",
      "|       Ann|    Moore|              false|\n",
      "|    Joseph|   Lackey|              false|\n",
      "|     Sarah|   Duvall|              false|\n",
      "|      Lucy|   Corley|               true|\n",
      "|    Roland| Crawford|              false|\n",
      "|     Leona|     Bray|              false|\n",
      "|   Forrest|   Becker|              false|\n",
      "+----------+---------+-------------------+\n",
      "only showing top 20 rows\n",
      "\n"
     ]
    }
   ],
   "source": [
    "accountsDF. \\\n",
    "select(accountsDF.first_name, \\\n",
    "accountsDF.last_name,lucyCol). \\\n",
    "show()"
   ]
  },
  {
   "cell_type": "code",
   "execution_count": 14,
   "metadata": {
    "collapsed": false
   },
   "outputs": [
    {
     "name": "stdout",
     "output_type": "stream",
     "text": [
      "+--------+-------------------+-------------------+----------+---------+--------------------+----------+-----+-------+------------+-------------------+-------------------+\n",
      "|acct_num|     acct_create_dt|      acct_close_dt|first_name|last_name|             address|      city|state|zipcode|phone_number|            created|           modified|\n",
      "+--------+-------------------+-------------------+----------+---------+--------------------+----------+-----+-------+------------+-------------------+-------------------+\n",
      "|      17|2008-12-27 23:31:40|               null|      Lucy|   Corley|   4834 Brown Street|Santa Rosa|   CA|  94980|  7076068290|2014-03-18 13:29:47|2014-03-18 13:29:47|\n",
      "|    1762|2009-03-19 23:43:00|               null|      Lucy|    Davis|2195 Riverside Drive|Sacramento|   CA|  95620|  9169959437|2014-03-18 13:29:50|2014-03-18 13:29:50|\n",
      "|    6551|2010-09-04 19:28:22|2014-02-14 19:19:16|      Lucy|  Casiano|2821 Wood Duck Drive|  Alhambra|   CA|  91810|  6261078791|2014-03-18 13:29:59|2014-03-18 13:29:59|\n",
      "|    6978|2010-09-22 07:13:16|               null|      Lucy|      Lee|4781 Shadowmar Drive|   Salinas|   CA|  93961|  8315367970|2014-03-18 13:30:00|2014-03-18 13:30:00|\n",
      "|    7107|2010-02-10 00:23:38|2014-01-23 22:55:06|      Lucy| Hastings|   4759 Gateway Road|    Fresno|   CA|  93692|  5595001084|2014-03-18 13:30:00|2014-03-18 13:30:00|\n",
      "+--------+-------------------+-------------------+----------+---------+--------------------+----------+-----+-------+------------+-------------------+-------------------+\n",
      "only showing top 5 rows\n",
      "\n"
     ]
    }
   ],
   "source": [
    "accountsDF.where(lucyCol).show(5)\n"
   ]
  },
  {
   "cell_type": "code",
   "execution_count": 15,
   "metadata": {
    "collapsed": false
   },
   "outputs": [
    {
     "name": "stdout",
     "output_type": "stream",
     "text": [
      "+--------+-------------------+-------------------+----------+---------+--------------------+----------+-----+-------+------------+-------------------+-------------------+\n",
      "|acct_num|     acct_create_dt|      acct_close_dt|first_name|last_name|             address|      city|state|zipcode|phone_number|            created|           modified|\n",
      "+--------+-------------------+-------------------+----------+---------+--------------------+----------+-----+-------+------------+-------------------+-------------------+\n",
      "|      17|2008-12-27 23:31:40|               null|      Lucy|   Corley|   4834 Brown Street|Santa Rosa|   CA|  94980|  7076068290|2014-03-18 13:29:47|2014-03-18 13:29:47|\n",
      "|    1762|2009-03-19 23:43:00|               null|      Lucy|    Davis|2195 Riverside Drive|Sacramento|   CA|  95620|  9169959437|2014-03-18 13:29:50|2014-03-18 13:29:50|\n",
      "|    6551|2010-09-04 19:28:22|2014-02-14 19:19:16|      Lucy|  Casiano|2821 Wood Duck Drive|  Alhambra|   CA|  91810|  6261078791|2014-03-18 13:29:59|2014-03-18 13:29:59|\n",
      "|    6978|2010-09-22 07:13:16|               null|      Lucy|      Lee|4781 Shadowmar Drive|   Salinas|   CA|  93961|  8315367970|2014-03-18 13:30:00|2014-03-18 13:30:00|\n",
      "|    7107|2010-02-10 00:23:38|2014-01-23 22:55:06|      Lucy| Hastings|   4759 Gateway Road|    Fresno|   CA|  93692|  5595001084|2014-03-18 13:30:00|2014-03-18 13:30:00|\n",
      "+--------+-------------------+-------------------+----------+---------+--------------------+----------+-----+-------+------------+-------------------+-------------------+\n",
      "only showing top 5 rows\n",
      "\n"
     ]
    }
   ],
   "source": [
    "accountsDF.where(fnCol == \"Lucy\").show(5)\n"
   ]
  },
  {
   "cell_type": "code",
   "execution_count": 16,
   "metadata": {
    "collapsed": false
   },
   "outputs": [
    {
     "name": "stdout",
     "output_type": "stream",
     "text": [
      "+-------------+-----+-----------------------------+\n",
      "|         city|state|substring(phone_number, 1, 3)|\n",
      "+-------------+-----+-----------------------------+\n",
      "|      Oakland|   CA|                          510|\n",
      "|San Francisco|   CA|                          415|\n",
      "|    San Mateo|   CA|                          650|\n",
      "|    San Mateo|   CA|                          650|\n",
      "|     Richmond|   CA|                          510|\n",
      "+-------------+-----+-----------------------------+\n",
      "only showing top 5 rows\n",
      "\n"
     ]
    }
   ],
   "source": [
    "accountsDF.select(\"city\", \"state\", accountsDF.phone_number.substr(1,3)).show(5)"
   ]
  },
  {
   "cell_type": "code",
   "execution_count": 17,
   "metadata": {
    "collapsed": false
   },
   "outputs": [
    {
     "name": "stdout",
     "output_type": "stream",
     "text": [
      "+-------------+-----+---------+\n",
      "|         city|state|area_code|\n",
      "+-------------+-----+---------+\n",
      "|      Oakland|   CA|      510|\n",
      "|San Francisco|   CA|      415|\n",
      "|    San Mateo|   CA|      650|\n",
      "|    San Mateo|   CA|      650|\n",
      "|     Richmond|   CA|      510|\n",
      "+-------------+-----+---------+\n",
      "only showing top 5 rows\n",
      "\n"
     ]
    }
   ],
   "source": [
    "accountsDF.select(\"city\", \"state\", accountsDF.phone_number.substr(1,3).alias(\"area_code\")).show(5)"
   ]
  },
  {
   "cell_type": "code",
   "execution_count": 18,
   "metadata": {
    "collapsed": false
   },
   "outputs": [
    {
     "name": "stdout",
     "output_type": "stream",
     "text": [
      "+-----------+-----+\n",
      "|  last_name|count|\n",
      "+-----------+-----+\n",
      "|   Francois|    6|\n",
      "|     Bohner|    3|\n",
      "|      Tyler|   50|\n",
      "|     Maddox|   60|\n",
      "|   Abramson|    3|\n",
      "|    Custard|    3|\n",
      "|   Striplin|    3|\n",
      "|      Bunch|   20|\n",
      "|      Roach|   35|\n",
      "|      Veith|    3|\n",
      "|    McClung|    8|\n",
      "|    Palermo|    8|\n",
      "|Mazzariello|    3|\n",
      "|   Moreland|   17|\n",
      "|     Wiener|    9|\n",
      "|       Silk|    6|\n",
      "|   Simental|    6|\n",
      "|     Osteen|    3|\n",
      "|  Spadafora|    3|\n",
      "|       Maze|    6|\n",
      "+-----------+-----+\n",
      "only showing top 20 rows\n",
      "\n"
     ]
    }
   ],
   "source": [
    "accountsDF.groupBy(\"last_name\").count().show()"
   ]
  },
  {
   "cell_type": "code",
   "execution_count": 35,
   "metadata": {
    "collapsed": false
   },
   "outputs": [
    {
     "name": "stdout",
     "output_type": "stream",
     "text": [
      "+---+-----+-------------+-----+-------+---------+\n",
      "| id|  zip|         city|state|    lat|      lon|\n",
      "+---+-----+-------------+-----+-------+---------+\n",
      "|  1|86502|     Chambers|   AZ|35.2375| -109.523|\n",
      "|  2|86514| Teec Nos Pos|   AZ|36.7797| -109.359|\n",
      "|  3|85602|       Benson|   AZ|31.9883|-110.2941|\n",
      "|  4|86011|    Flagstaff|   AZ|35.6308|-112.0524|\n",
      "|  5|86016|Gray Mountain|   AZ|35.6308|-112.0524|\n",
      "+---+-----+-------------+-----+-------+---------+\n",
      "only showing top 5 rows\n",
      "\n"
     ]
    }
   ],
   "source": [
    "baseDF = spark.read.parquet(\"/loudacre/base_stations.parquet\")\n",
    "baseDF.show(5)\n"
   ]
  },
  {
   "cell_type": "code",
   "execution_count": 22,
   "metadata": {
    "collapsed": false
   },
   "outputs": [
    {
     "name": "stdout",
     "output_type": "stream",
     "text": [
      "+--------+----------+-----------+-------+---+-----+-------------+-----+-------+---------+\n",
      "|acct_num|first_name|  last_name|zipcode| id|  zip|         city|state|    lat|      lon|\n",
      "+--------+----------+-----------+-------+---+-----+-------------+-----+-------+---------+\n",
      "|      37|    Cheryl|       West|  94622|231|94622|      Oakland|   CA| 37.799|-122.2337|\n",
      "|      56|   Terrell|   Hardiman|  94261|127|94261|   Sacramento|   CA|38.3774|-121.4444|\n",
      "|      60|     Irwin|Clatterbuck|  94403|185|94403|    San Mateo|   CA|37.5395|-122.2998|\n",
      "|      68|    Walter|    Greiner|  94701| 35|94701|     Berkeley|   CA|37.8606|-122.2967|\n",
      "|     126|     Keith|     Branan|  94623| 34|94623|      Oakland|   CA|37.6802|-121.9215|\n",
      "|     130|   Maynard|     Penley|  94120|165|94120|San Francisco|   CA|37.7848|-122.7278|\n",
      "|     179|     Julia|    Nowicki|  94059|182|94059| Redwood City|   CA|37.3811|-122.3348|\n",
      "|     183| Elizabeth|   McMillan|  94150|173|94150|San Francisco|   CA|37.7848|-122.7278|\n",
      "|     196|     Bruce|     Vargas|  94975|211|94975|     Petaluma|   CA|38.4631|  -122.99|\n",
      "|     233|     Arden|      Black|  94088|190|94088|    Sunnyvale|   CA|37.1894|-121.7053|\n",
      "|     241|    Conrad|  Fairchild|  94116|164|94116|San Francisco|   CA|37.7441|-122.4863|\n",
      "|     275|   Chelsea|      Gaona|  94040|189|94040|Mountain View|   CA|37.3855| -122.088|\n",
      "|     410|   Kenneth|    Nowicki|  94110|163|94110|San Francisco|   CA|37.7509|-122.4153|\n",
      "|     415|     Jason|       King|  94529| 39|94529|      Concord|   CA|37.7772|-121.9554|\n",
      "|     435|    Andrew|      Oakes|  94130|167|94130|San Francisco|   CA|37.8231|-122.3693|\n",
      "|     481|     Grace|     Brooks|  95675| 37|95675|  River Pines|   CA|38.5463| -120.743|\n",
      "|     489|    George|       Sams|  94088|190|94088|    Sunnyvale|   CA|37.1894|-121.7053|\n",
      "|     530|       Ann|   Stennett|  95190|202|95190|     San Jose|   CA|37.3894|-121.8868|\n",
      "|     543|      Joan|     Benito|  95915|121|95915|       Belden|   CA|39.9324|-121.3144|\n",
      "|     556|  Gretchen|    Akridge|  94074|184|94074| San Gregorio|   CA|37.3255|-122.3556|\n",
      "+--------+----------+-----------+-------+---+-----+-------------+-----+-------+---------+\n",
      "only showing top 20 rows\n",
      "\n"
     ]
    }
   ],
   "source": [
    "accountsDF.select(\"acct_num\",\"first_name\",\"last_name\",\"zipcode\").join(baseDF, baseDF.zip == accountsDF.zipcode).show()"
   ]
  },
  {
   "cell_type": "code",
   "execution_count": 37,
   "metadata": {
    "collapsed": false
   },
   "outputs": [
    {
     "name": "stdout",
     "output_type": "stream",
     "text": [
      "+--------+----------+---------+-------+\n",
      "|acct_num|first_name|last_name|zipcode|\n",
      "+--------+----------+---------+-------+\n",
      "|       1|    Donald|   Becton|  94660|\n",
      "|       2|     Donna|    Jones|  94171|\n",
      "|       3|    Dorthy| Chalmers|  94479|\n",
      "|       4|     Leila|  Spencer|  94444|\n",
      "|       5|     Anita| Laughlin|  94872|\n",
      "+--------+----------+---------+-------+\n",
      "only showing top 5 rows\n",
      "\n"
     ]
    }
   ],
   "source": [
    "accountsDF.select(\"acct_num\",\"first_name\",\"last_name\",\"zipcode\").show(5)"
   ]
  },
  {
   "cell_type": "code",
   "execution_count": 32,
   "metadata": {
    "collapsed": false
   },
   "outputs": [],
   "source": [
    "accountDevicesDF = spark.read.option(\"header\",\"true\").csv(\"/loudacre/accountdevice/\")"
   ]
  },
  {
   "cell_type": "code",
   "execution_count": 45,
   "metadata": {
    "collapsed": false
   },
   "outputs": [
    {
     "name": "stdout",
     "output_type": "stream",
     "text": [
      "+-----+----------+---------+---------------+--------------------+\n",
      "|   id|account_id|device_id|activation_date|   account_device_id|\n",
      "+-----+----------+---------+---------------+--------------------+\n",
      "|48692|     32443|       29|  1393242509000|7351fed1-f344-4cd...|\n",
      "+-----+----------+---------+---------------+--------------------+\n",
      "only showing top 1 row\n",
      "\n",
      "+--------+-------------------+-------------+----------+---------+--------------------+-------+-----+-------+------------+-------------------+-------------------+\n",
      "|acct_num|     acct_create_dt|acct_close_dt|first_name|last_name|             address|   city|state|zipcode|phone_number|            created|           modified|\n",
      "+--------+-------------------+-------------+----------+---------+--------------------+-------+-----+-------+------------+-------------------+-------------------+\n",
      "|       1|2008-10-23 16:05:05|         null|    Donald|   Becton|2275 Washburn Street|Oakland|   CA|  94660|  5100032418|2014-03-18 13:29:47|2014-03-18 13:29:47|\n",
      "+--------+-------------------+-------------+----------+---------+--------------------+-------+-----+-------+------------+-------------------+-------------------+\n",
      "only showing top 1 row\n",
      "\n",
      "+--------+------+--------+-----+--------------------+\n",
      "|dev_type|devnum|    make|model|          release_dt|\n",
      "+--------+------+--------+-----+--------------------+\n",
      "|   phone|     1|Sorrento| F00L|2008-10-21T00:00:...|\n",
      "+--------+------+--------+-----+--------------------+\n",
      "only showing top 1 row\n",
      "\n",
      "+--------+-----+\n",
      "|    make|model|\n",
      "+--------+-----+\n",
      "|Sorrento| F00L|\n",
      "+--------+-----+\n",
      "only showing top 1 row\n",
      "\n"
     ]
    }
   ],
   "source": [
    "accountDevicesDF.show(1)\n",
    "accountsDF.show(1)\n",
    "devDF.show(1)\n",
    "makeModelDF.show(1)"
   ]
  },
  {
   "cell_type": "code",
   "execution_count": 47,
   "metadata": {
    "collapsed": false
   },
   "outputs": [
    {
     "name": "stdout",
     "output_type": "stream",
     "text": [
      "+--------+-------------------+-------------+----------+---------+--------------------+-------------+-----+-------+------------+-------------------+-------------------+\n",
      "|acct_num|     acct_create_dt|acct_close_dt|first_name|last_name|             address|         city|state|zipcode|phone_number|            created|           modified|\n",
      "+--------+-------------------+-------------+----------+---------+--------------------+-------------+-----+-------+------------+-------------------+-------------------+\n",
      "|       1|2008-10-23 16:05:05|         null|    Donald|   Becton|2275 Washburn Street|      Oakland|   CA|  94660|  5100032418|2014-03-18 13:29:47|2014-03-18 13:29:47|\n",
      "|       2|2008-11-12 03:00:01|         null|     Donna|    Jones| 3885 Elliott Street|San Francisco|   CA|  94171|  4150835799|2014-03-18 13:29:47|2014-03-18 13:29:47|\n",
      "|       3|2008-12-21 09:19:50|         null|    Dorthy| Chalmers|    4073 Whaley Lane|    San Mateo|   CA|  94479|  6506877757|2014-03-18 13:29:47|2014-03-18 13:29:47|\n",
      "|       4|2008-11-28 00:08:09|         null|     Leila|  Spencer|    1447 Ross Street|    San Mateo|   CA|  94444|  6503198619|2014-03-18 13:29:47|2014-03-18 13:29:47|\n",
      "|       5|2008-11-15 23:06:06|         null|     Anita| Laughlin|    2767 Hill Street|     Richmond|   CA|  94872|  5107754354|2014-03-18 13:29:47|2014-03-18 13:29:47|\n",
      "+--------+-------------------+-------------+----------+---------+--------------------+-------------+-----+-------+------------+-------------------+-------------------+\n",
      "only showing top 5 rows\n",
      "\n"
     ]
    }
   ],
   "source": [
    "activeAccountsDF = accountsDF.where(accountsDF.acct_close_dt.isNull())\n",
    "activeAccountsDF.show(5)"
   ]
  },
  {
   "cell_type": "code",
   "execution_count": 51,
   "metadata": {
    "collapsed": false
   },
   "outputs": [
    {
     "name": "stdout",
     "output_type": "stream",
     "text": [
      "+---------+\n",
      "|device_id|\n",
      "+---------+\n",
      "|       29|\n",
      "|        4|\n",
      "|        9|\n",
      "|        6|\n",
      "|       29|\n",
      "+---------+\n",
      "only showing top 5 rows\n",
      "\n"
     ]
    }
   ],
   "source": [
    "activeAccountDevicesDF = accountDevicesDF. \\\n",
    "    join(activeAccountsDF,activeAccountsDF.acct_num == accountDevicesDF.account_id). \\\n",
    "    select(\"device_id\")\n",
    "activeAccountDevicesDF.show(5)"
   ]
  },
  {
   "cell_type": "code",
   "execution_count": 53,
   "metadata": {
    "collapsed": false
   },
   "outputs": [
    {
     "name": "stdout",
     "output_type": "stream",
     "text": [
      "+---------+----------+\n",
      "|device_id|active_num|\n",
      "+---------+----------+\n",
      "|        7|      2973|\n",
      "|       15|      2972|\n",
      "|       11|      2691|\n",
      "|       29|     30901|\n",
      "|       42|       706|\n",
      "+---------+----------+\n",
      "only showing top 5 rows\n",
      "\n"
     ]
    }
   ],
   "source": [
    "sumDevicesDF = activeAccountDevicesDF.groupBy(\"device_id\").count().withColumnRenamed(\"count\",\"active_num\")\n",
    "sumDevicesDF.show(5)"
   ]
  },
  {
   "cell_type": "code",
   "execution_count": 54,
   "metadata": {
    "collapsed": true
   },
   "outputs": [],
   "source": [
    "orderDevicesDF = sumDevicesDF.orderBy(sumDevicesDF.active_num.desc())"
   ]
  },
  {
   "cell_type": "code",
   "execution_count": 58,
   "metadata": {
    "collapsed": false
   },
   "outputs": [
    {
     "name": "stdout",
     "output_type": "stream",
     "text": [
      "+---------+----------+\n",
      "|device_id|active_num|\n",
      "+---------+----------+\n",
      "|       29|     30901|\n",
      "|       38|      3727|\n",
      "|        9|      3644|\n",
      "|        5|      3643|\n",
      "|        1|      3620|\n",
      "+---------+----------+\n",
      "only showing top 5 rows\n",
      "\n",
      "+--------+------+--------+-----+--------------------+\n",
      "|dev_type|devnum|    make|model|          release_dt|\n",
      "+--------+------+--------+-----+--------------------+\n",
      "|   phone|     1|Sorrento| F00L|2008-10-21T00:00:...|\n",
      "|   phone|     2| Titanic| 2100|2010-04-19T00:00:...|\n",
      "|   phone|     3|  MeeToo|  3.0|2011-02-18T00:00:...|\n",
      "|   phone|     4|  MeeToo|  3.1|2011-09-21T00:00:...|\n",
      "|   phone|     5|  iFruit|    1|2008-10-21T00:00:...|\n",
      "+--------+------+--------+-----+--------------------+\n",
      "only showing top 5 rows\n",
      "\n",
      "+--------+-----+\n",
      "|    make|model|\n",
      "+--------+-----+\n",
      "|Sorrento| F00L|\n",
      "| Titanic| 2100|\n",
      "|  MeeToo|  3.0|\n",
      "|  MeeToo|  3.1|\n",
      "|  iFruit|    1|\n",
      "+--------+-----+\n",
      "only showing top 5 rows\n",
      "\n"
     ]
    }
   ],
   "source": [
    "orderDevicesDF.show(5)\n",
    "devDF.show(5)\n",
    "makeModelDF.show(5)"
   ]
  },
  {
   "cell_type": "code",
   "execution_count": 60,
   "metadata": {
    "collapsed": false
   },
   "outputs": [
    {
     "name": "stdout",
     "output_type": "stream",
     "text": [
      "+---------+----------+--------+------+--------+-----+--------------------+\n",
      "|device_id|active_num|dev_type|devnum|    make|model|          release_dt|\n",
      "+---------+----------+--------+------+--------+-----+--------------------+\n",
      "|       29|     30901|   phone|    29|Sorrento| F41L|2013-11-01T00:00:...|\n",
      "|       38|      3727|   phone|    38| Titanic| 1100|2008-11-25T00:00:...|\n",
      "|        9|      3644|   phone|     9| Titanic| 1000|2008-10-21T00:00:...|\n",
      "|        5|      3643|   phone|     5|  iFruit|    1|2008-10-21T00:00:...|\n",
      "|        1|      3620|   phone|     1|Sorrento| F00L|2008-10-21T00:00:...|\n",
      "+---------+----------+--------+------+--------+-----+--------------------+\n",
      "only showing top 5 rows\n",
      "\n"
     ]
    }
   ],
   "source": [
    "result = orderDevicesDF.join(devDF, sumDevicesDF.device_id == devDF.devnum)\n",
    "result.show(5)"
   ]
  },
  {
   "cell_type": "code",
   "execution_count": 63,
   "metadata": {
    "collapsed": false
   },
   "outputs": [],
   "source": [
    "result.select(\"device_id\", \"make\", \"model\", result.active_num).write.mode(\"overwrite\").save(\"/loudacre/top_devices\")"
   ]
  },
  {
   "cell_type": "code",
   "execution_count": null,
   "metadata": {
    "collapsed": true
   },
   "outputs": [],
   "source": []
  }
 ],
 "metadata": {
  "kernelspec": {
   "display_name": "Python 2",
   "language": "python",
   "name": "python2"
  },
  "language_info": {
   "codemirror_mode": {
    "name": "ipython",
    "version": 2
   },
   "file_extension": ".py",
   "mimetype": "text/x-python",
   "name": "python",
   "nbconvert_exporter": "python",
   "pygments_lexer": "ipython2",
   "version": "2.7.13"
  }
 },
 "nbformat": 4,
 "nbformat_minor": 2
}
